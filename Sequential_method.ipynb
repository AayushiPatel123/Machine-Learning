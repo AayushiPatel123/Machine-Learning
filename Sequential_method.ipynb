{
  "nbformat": 4,
  "nbformat_minor": 0,
  "metadata": {
    "colab": {
      "provenance": [],
      "include_colab_link": true
    },
    "kernelspec": {
      "name": "python3",
      "display_name": "Python 3"
    },
    "language_info": {
      "name": "python"
    }
  },
  "cells": [
    {
      "cell_type": "markdown",
      "metadata": {
        "id": "view-in-github",
        "colab_type": "text"
      },
      "source": [
        "<a href=\"https://colab.research.google.com/github/AayushiPatel123/Machine-Learning/blob/Sequential-NN-afrfchitecture/Sequential_method.ipynb\" target=\"_parent\"><img src=\"https://colab.research.google.com/assets/colab-badge.svg\" alt=\"Open In Colab\"/></a>"
      ]
    },
    {
      "cell_type": "code",
      "execution_count": 2,
      "metadata": {
        "id": "XYYafb617zOK"
      },
      "outputs": [],
      "source": [
        "import pandas as pd\n",
        "import numpy as np"
      ]
    },
    {
      "cell_type": "code",
      "source": [
        "circles_dataset = pd.read_csv('circles0.3.csv')\n",
        "# circles_dataset = pd.read_csv('Breastcancer.csv')\n",
        "# circles_dataset = pd.read_csv('halfkernel.csv')\n",
        "# circles_dataset = pd.read_csv('moons1.csv')\n",
        "# circles_dataset = pd.read_csv('spiral1.csv')\n",
        "# circles_dataset = pd.read_csv('twogaussians33.csv')\n",
        "# circles_dataset = pd.read_csv('twogaussians42.csv')\n",
        "X_circles = circles_dataset.iloc[:,:-1].values\n",
        "Y_circles = circles_dataset.iloc[:,-1].values\n",
        "#Y_circles = Y_circles.reshape(-1,1)\n",
        "circles_dataset.head()"
      ],
      "metadata": {
        "id": "hzsQNpF68MFH",
        "colab": {
          "base_uri": "https://localhost:8080/",
          "height": 206
        },
        "outputId": "5c11a4de-02b2-44fa-b29d-dd4372927151"
      },
      "execution_count": 5,
      "outputs": [
        {
          "output_type": "execute_result",
          "data": {
            "text/plain": [
              "         x1        x2  label\n",
              "0 -1.047089  0.149405      0\n",
              "1 -0.417893 -0.064341      1\n",
              "2 -0.873634  0.810346      0\n",
              "3 -0.845811  0.439035      0\n",
              "4  0.844557  0.484532      0"
            ],
            "text/html": [
              "\n",
              "  <div id=\"df-e86e73fb-33cc-4439-92fa-fb683edf0a2e\">\n",
              "    <div class=\"colab-df-container\">\n",
              "      <div>\n",
              "<style scoped>\n",
              "    .dataframe tbody tr th:only-of-type {\n",
              "        vertical-align: middle;\n",
              "    }\n",
              "\n",
              "    .dataframe tbody tr th {\n",
              "        vertical-align: top;\n",
              "    }\n",
              "\n",
              "    .dataframe thead th {\n",
              "        text-align: right;\n",
              "    }\n",
              "</style>\n",
              "<table border=\"1\" class=\"dataframe\">\n",
              "  <thead>\n",
              "    <tr style=\"text-align: right;\">\n",
              "      <th></th>\n",
              "      <th>x1</th>\n",
              "      <th>x2</th>\n",
              "      <th>label</th>\n",
              "    </tr>\n",
              "  </thead>\n",
              "  <tbody>\n",
              "    <tr>\n",
              "      <th>0</th>\n",
              "      <td>-1.047089</td>\n",
              "      <td>0.149405</td>\n",
              "      <td>0</td>\n",
              "    </tr>\n",
              "    <tr>\n",
              "      <th>1</th>\n",
              "      <td>-0.417893</td>\n",
              "      <td>-0.064341</td>\n",
              "      <td>1</td>\n",
              "    </tr>\n",
              "    <tr>\n",
              "      <th>2</th>\n",
              "      <td>-0.873634</td>\n",
              "      <td>0.810346</td>\n",
              "      <td>0</td>\n",
              "    </tr>\n",
              "    <tr>\n",
              "      <th>3</th>\n",
              "      <td>-0.845811</td>\n",
              "      <td>0.439035</td>\n",
              "      <td>0</td>\n",
              "    </tr>\n",
              "    <tr>\n",
              "      <th>4</th>\n",
              "      <td>0.844557</td>\n",
              "      <td>0.484532</td>\n",
              "      <td>0</td>\n",
              "    </tr>\n",
              "  </tbody>\n",
              "</table>\n",
              "</div>\n",
              "      <button class=\"colab-df-convert\" onclick=\"convertToInteractive('df-e86e73fb-33cc-4439-92fa-fb683edf0a2e')\"\n",
              "              title=\"Convert this dataframe to an interactive table.\"\n",
              "              style=\"display:none;\">\n",
              "        \n",
              "  <svg xmlns=\"http://www.w3.org/2000/svg\" height=\"24px\"viewBox=\"0 0 24 24\"\n",
              "       width=\"24px\">\n",
              "    <path d=\"M0 0h24v24H0V0z\" fill=\"none\"/>\n",
              "    <path d=\"M18.56 5.44l.94 2.06.94-2.06 2.06-.94-2.06-.94-.94-2.06-.94 2.06-2.06.94zm-11 1L8.5 8.5l.94-2.06 2.06-.94-2.06-.94L8.5 2.5l-.94 2.06-2.06.94zm10 10l.94 2.06.94-2.06 2.06-.94-2.06-.94-.94-2.06-.94 2.06-2.06.94z\"/><path d=\"M17.41 7.96l-1.37-1.37c-.4-.4-.92-.59-1.43-.59-.52 0-1.04.2-1.43.59L10.3 9.45l-7.72 7.72c-.78.78-.78 2.05 0 2.83L4 21.41c.39.39.9.59 1.41.59.51 0 1.02-.2 1.41-.59l7.78-7.78 2.81-2.81c.8-.78.8-2.07 0-2.86zM5.41 20L4 18.59l7.72-7.72 1.47 1.35L5.41 20z\"/>\n",
              "  </svg>\n",
              "      </button>\n",
              "      \n",
              "  <style>\n",
              "    .colab-df-container {\n",
              "      display:flex;\n",
              "      flex-wrap:wrap;\n",
              "      gap: 12px;\n",
              "    }\n",
              "\n",
              "    .colab-df-convert {\n",
              "      background-color: #E8F0FE;\n",
              "      border: none;\n",
              "      border-radius: 50%;\n",
              "      cursor: pointer;\n",
              "      display: none;\n",
              "      fill: #1967D2;\n",
              "      height: 32px;\n",
              "      padding: 0 0 0 0;\n",
              "      width: 32px;\n",
              "    }\n",
              "\n",
              "    .colab-df-convert:hover {\n",
              "      background-color: #E2EBFA;\n",
              "      box-shadow: 0px 1px 2px rgba(60, 64, 67, 0.3), 0px 1px 3px 1px rgba(60, 64, 67, 0.15);\n",
              "      fill: #174EA6;\n",
              "    }\n",
              "\n",
              "    [theme=dark] .colab-df-convert {\n",
              "      background-color: #3B4455;\n",
              "      fill: #D2E3FC;\n",
              "    }\n",
              "\n",
              "    [theme=dark] .colab-df-convert:hover {\n",
              "      background-color: #434B5C;\n",
              "      box-shadow: 0px 1px 3px 1px rgba(0, 0, 0, 0.15);\n",
              "      filter: drop-shadow(0px 1px 2px rgba(0, 0, 0, 0.3));\n",
              "      fill: #FFFFFF;\n",
              "    }\n",
              "  </style>\n",
              "\n",
              "      <script>\n",
              "        const buttonEl =\n",
              "          document.querySelector('#df-e86e73fb-33cc-4439-92fa-fb683edf0a2e button.colab-df-convert');\n",
              "        buttonEl.style.display =\n",
              "          google.colab.kernel.accessAllowed ? 'block' : 'none';\n",
              "\n",
              "        async function convertToInteractive(key) {\n",
              "          const element = document.querySelector('#df-e86e73fb-33cc-4439-92fa-fb683edf0a2e');\n",
              "          const dataTable =\n",
              "            await google.colab.kernel.invokeFunction('convertToInteractive',\n",
              "                                                     [key], {});\n",
              "          if (!dataTable) return;\n",
              "\n",
              "          const docLinkHtml = 'Like what you see? Visit the ' +\n",
              "            '<a target=\"_blank\" href=https://colab.research.google.com/notebooks/data_table.ipynb>data table notebook</a>'\n",
              "            + ' to learn more about interactive tables.';\n",
              "          element.innerHTML = '';\n",
              "          dataTable['output_type'] = 'display_data';\n",
              "          await google.colab.output.renderOutput(dataTable, element);\n",
              "          const docLink = document.createElement('div');\n",
              "          docLink.innerHTML = docLinkHtml;\n",
              "          element.appendChild(docLink);\n",
              "        }\n",
              "      </script>\n",
              "    </div>\n",
              "  </div>\n",
              "  "
            ]
          },
          "metadata": {},
          "execution_count": 5
        }
      ]
    },
    {
      "cell_type": "code",
      "source": [
        "from sklearn.model_selection import train_test_split\n",
        "X_circles_train,X_circles_test,y_circles_train,y_circles_test = train_test_split(X_circles, Y_circles, test_size=0.2,random_state=0)"
      ],
      "metadata": {
        "id": "wXbUvaCRQ6C0"
      },
      "execution_count": 6,
      "outputs": []
    },
    {
      "cell_type": "code",
      "source": [
        "import tensorflow as tf\n",
        "from tensorflow import keras\n",
        "model_2 = tf.keras.models.Sequential()\n",
        "#Input and hidden layer\n",
        "model_2.add(tf.keras.layers.Dense(units = 6, activation = 'relu'))\n",
        "#2nd Hidden layer\n",
        "model_2.add(tf.keras.layers.Dense(units = 7, activation = 'relu'))\n",
        "#output layer\n",
        "model_2.add(tf.keras.layers.Dense(units = 1, activation = 'sigmoid'))\n",
        "#compiling the NN\n",
        "model_2.compile ( optimizer='Adam', metrics= ['accuracy'] ,loss= 'binary_crossentropy' )\n",
        "# fitting the model with batch learning\n",
        "data=model_2.fit(X_circles_train,y_circles_train, batch_size = 32, epochs = 50 ,validation_data=(X_circles, Y_circles))"
      ],
      "metadata": {
        "colab": {
          "base_uri": "https://localhost:8080/"
        },
        "id": "sTl3zcLjP4Y8",
        "outputId": "c9af0c0f-3fdd-4ae7-81f6-3280e85ece7a"
      },
      "execution_count": 13,
      "outputs": [
        {
          "output_type": "stream",
          "name": "stdout",
          "text": [
            "Epoch 1/50\n",
            "25/25 [==============================] - 2s 33ms/step - loss: 0.2373 - accuracy: 0.5013 - val_loss: 0.2332 - val_accuracy: 0.5210\n",
            "Epoch 2/50\n",
            "25/25 [==============================] - 0s 7ms/step - loss: 0.2303 - accuracy: 0.5375 - val_loss: 0.2261 - val_accuracy: 0.6200\n",
            "Epoch 3/50\n",
            "25/25 [==============================] - 0s 10ms/step - loss: 0.2228 - accuracy: 0.6900 - val_loss: 0.2183 - val_accuracy: 0.7640\n",
            "Epoch 4/50\n",
            "25/25 [==============================] - 0s 8ms/step - loss: 0.2146 - accuracy: 0.7887 - val_loss: 0.2104 - val_accuracy: 0.8280\n",
            "Epoch 5/50\n",
            "25/25 [==============================] - 0s 7ms/step - loss: 0.2065 - accuracy: 0.8388 - val_loss: 0.2018 - val_accuracy: 0.8670\n",
            "Epoch 6/50\n",
            "25/25 [==============================] - 0s 17ms/step - loss: 0.1970 - accuracy: 0.8725 - val_loss: 0.1918 - val_accuracy: 0.8940\n",
            "Epoch 7/50\n",
            "25/25 [==============================] - 0s 11ms/step - loss: 0.1865 - accuracy: 0.9000 - val_loss: 0.1813 - val_accuracy: 0.9160\n",
            "Epoch 8/50\n",
            "25/25 [==============================] - 0s 4ms/step - loss: 0.1755 - accuracy: 0.9375 - val_loss: 0.1701 - val_accuracy: 0.9470\n",
            "Epoch 9/50\n",
            "25/25 [==============================] - 0s 5ms/step - loss: 0.1636 - accuracy: 0.9563 - val_loss: 0.1574 - val_accuracy: 0.9650\n",
            "Epoch 10/50\n",
            "25/25 [==============================] - 0s 5ms/step - loss: 0.1503 - accuracy: 0.9675 - val_loss: 0.1434 - val_accuracy: 0.9790\n",
            "Epoch 11/50\n",
            "25/25 [==============================] - 0s 4ms/step - loss: 0.1360 - accuracy: 0.9862 - val_loss: 0.1287 - val_accuracy: 0.9880\n",
            "Epoch 12/50\n",
            "25/25 [==============================] - 0s 4ms/step - loss: 0.1216 - accuracy: 0.9912 - val_loss: 0.1148 - val_accuracy: 0.9920\n",
            "Epoch 13/50\n",
            "25/25 [==============================] - 0s 5ms/step - loss: 0.1082 - accuracy: 0.9912 - val_loss: 0.1019 - val_accuracy: 0.9930\n",
            "Epoch 14/50\n",
            "25/25 [==============================] - 0s 4ms/step - loss: 0.0958 - accuracy: 0.9950 - val_loss: 0.0896 - val_accuracy: 0.9950\n",
            "Epoch 15/50\n",
            "25/25 [==============================] - 0s 4ms/step - loss: 0.0836 - accuracy: 0.9950 - val_loss: 0.0780 - val_accuracy: 0.9960\n",
            "Epoch 16/50\n",
            "25/25 [==============================] - 0s 4ms/step - loss: 0.0723 - accuracy: 0.9962 - val_loss: 0.0674 - val_accuracy: 0.9970\n",
            "Epoch 17/50\n",
            "25/25 [==============================] - 0s 5ms/step - loss: 0.0626 - accuracy: 0.9975 - val_loss: 0.0582 - val_accuracy: 0.9970\n",
            "Epoch 18/50\n",
            "25/25 [==============================] - 0s 4ms/step - loss: 0.0539 - accuracy: 0.9975 - val_loss: 0.0506 - val_accuracy: 0.9970\n",
            "Epoch 19/50\n",
            "25/25 [==============================] - 0s 5ms/step - loss: 0.0468 - accuracy: 0.9987 - val_loss: 0.0439 - val_accuracy: 0.9990\n",
            "Epoch 20/50\n",
            "25/25 [==============================] - 0s 4ms/step - loss: 0.0407 - accuracy: 1.0000 - val_loss: 0.0383 - val_accuracy: 0.9990\n",
            "Epoch 21/50\n",
            "25/25 [==============================] - 0s 4ms/step - loss: 0.0355 - accuracy: 1.0000 - val_loss: 0.0336 - val_accuracy: 0.9990\n",
            "Epoch 22/50\n",
            "25/25 [==============================] - 0s 4ms/step - loss: 0.0311 - accuracy: 1.0000 - val_loss: 0.0295 - val_accuracy: 0.9990\n",
            "Epoch 23/50\n",
            "25/25 [==============================] - 0s 5ms/step - loss: 0.0274 - accuracy: 1.0000 - val_loss: 0.0262 - val_accuracy: 0.9990\n",
            "Epoch 24/50\n",
            "25/25 [==============================] - 0s 5ms/step - loss: 0.0244 - accuracy: 1.0000 - val_loss: 0.0233 - val_accuracy: 0.9990\n",
            "Epoch 25/50\n",
            "25/25 [==============================] - 0s 5ms/step - loss: 0.0217 - accuracy: 1.0000 - val_loss: 0.0209 - val_accuracy: 1.0000\n",
            "Epoch 26/50\n",
            "25/25 [==============================] - 0s 5ms/step - loss: 0.0194 - accuracy: 1.0000 - val_loss: 0.0188 - val_accuracy: 1.0000\n",
            "Epoch 27/50\n",
            "25/25 [==============================] - 0s 5ms/step - loss: 0.0176 - accuracy: 1.0000 - val_loss: 0.0170 - val_accuracy: 1.0000\n",
            "Epoch 28/50\n",
            "25/25 [==============================] - 0s 4ms/step - loss: 0.0159 - accuracy: 1.0000 - val_loss: 0.0155 - val_accuracy: 1.0000\n",
            "Epoch 29/50\n",
            "25/25 [==============================] - 0s 6ms/step - loss: 0.0145 - accuracy: 1.0000 - val_loss: 0.0142 - val_accuracy: 1.0000\n",
            "Epoch 30/50\n",
            "25/25 [==============================] - 0s 5ms/step - loss: 0.0132 - accuracy: 1.0000 - val_loss: 0.0130 - val_accuracy: 1.0000\n",
            "Epoch 31/50\n",
            "25/25 [==============================] - 0s 4ms/step - loss: 0.0122 - accuracy: 1.0000 - val_loss: 0.0119 - val_accuracy: 1.0000\n",
            "Epoch 32/50\n",
            "25/25 [==============================] - 0s 5ms/step - loss: 0.0111 - accuracy: 1.0000 - val_loss: 0.0110 - val_accuracy: 1.0000\n",
            "Epoch 33/50\n",
            "25/25 [==============================] - 0s 5ms/step - loss: 0.0102 - accuracy: 1.0000 - val_loss: 0.0101 - val_accuracy: 1.0000\n",
            "Epoch 34/50\n",
            "25/25 [==============================] - 0s 5ms/step - loss: 0.0095 - accuracy: 1.0000 - val_loss: 0.0094 - val_accuracy: 1.0000\n",
            "Epoch 35/50\n",
            "25/25 [==============================] - 0s 5ms/step - loss: 0.0088 - accuracy: 1.0000 - val_loss: 0.0088 - val_accuracy: 1.0000\n",
            "Epoch 36/50\n",
            "25/25 [==============================] - 0s 5ms/step - loss: 0.0082 - accuracy: 1.0000 - val_loss: 0.0082 - val_accuracy: 1.0000\n",
            "Epoch 37/50\n",
            "25/25 [==============================] - 0s 6ms/step - loss: 0.0077 - accuracy: 1.0000 - val_loss: 0.0077 - val_accuracy: 1.0000\n",
            "Epoch 38/50\n",
            "25/25 [==============================] - 0s 5ms/step - loss: 0.0072 - accuracy: 1.0000 - val_loss: 0.0072 - val_accuracy: 1.0000\n",
            "Epoch 39/50\n",
            "25/25 [==============================] - 0s 4ms/step - loss: 0.0068 - accuracy: 1.0000 - val_loss: 0.0068 - val_accuracy: 1.0000\n",
            "Epoch 40/50\n",
            "25/25 [==============================] - 0s 4ms/step - loss: 0.0064 - accuracy: 1.0000 - val_loss: 0.0065 - val_accuracy: 1.0000\n",
            "Epoch 41/50\n",
            "25/25 [==============================] - 0s 4ms/step - loss: 0.0061 - accuracy: 1.0000 - val_loss: 0.0061 - val_accuracy: 1.0000\n",
            "Epoch 42/50\n",
            "25/25 [==============================] - 0s 5ms/step - loss: 0.0058 - accuracy: 1.0000 - val_loss: 0.0058 - val_accuracy: 1.0000\n",
            "Epoch 43/50\n",
            "25/25 [==============================] - 0s 5ms/step - loss: 0.0055 - accuracy: 1.0000 - val_loss: 0.0056 - val_accuracy: 1.0000\n",
            "Epoch 44/50\n",
            "25/25 [==============================] - 0s 4ms/step - loss: 0.0052 - accuracy: 1.0000 - val_loss: 0.0053 - val_accuracy: 1.0000\n",
            "Epoch 45/50\n",
            "25/25 [==============================] - 0s 5ms/step - loss: 0.0050 - accuracy: 1.0000 - val_loss: 0.0051 - val_accuracy: 1.0000\n",
            "Epoch 46/50\n",
            "25/25 [==============================] - 0s 5ms/step - loss: 0.0048 - accuracy: 1.0000 - val_loss: 0.0048 - val_accuracy: 1.0000\n",
            "Epoch 47/50\n",
            "25/25 [==============================] - 0s 5ms/step - loss: 0.0046 - accuracy: 1.0000 - val_loss: 0.0046 - val_accuracy: 1.0000\n",
            "Epoch 48/50\n",
            "25/25 [==============================] - 0s 5ms/step - loss: 0.0044 - accuracy: 1.0000 - val_loss: 0.0045 - val_accuracy: 1.0000\n",
            "Epoch 49/50\n",
            "25/25 [==============================] - 0s 5ms/step - loss: 0.0042 - accuracy: 1.0000 - val_loss: 0.0043 - val_accuracy: 1.0000\n",
            "Epoch 50/50\n",
            "25/25 [==============================] - 0s 5ms/step - loss: 0.0040 - accuracy: 1.0000 - val_loss: 0.0041 - val_accuracy: 1.0000\n"
          ]
        }
      ]
    },
    {
      "cell_type": "code",
      "source": [
        "model_2.summary()"
      ],
      "metadata": {
        "colab": {
          "base_uri": "https://localhost:8080/"
        },
        "id": "yDbS4sXGN_xp",
        "outputId": "f5e62f02-e960-4c02-e80f-c40403e95f0c"
      },
      "execution_count": 14,
      "outputs": [
        {
          "output_type": "stream",
          "name": "stdout",
          "text": [
            "Model: \"sequential_1\"\n",
            "_________________________________________________________________\n",
            " Layer (type)                Output Shape              Param #   \n",
            "=================================================================\n",
            " dense_3 (Dense)             (None, 6)                 18        \n",
            "                                                                 \n",
            " dense_4 (Dense)             (None, 7)                 49        \n",
            "                                                                 \n",
            " dense_5 (Dense)             (None, 1)                 8         \n",
            "                                                                 \n",
            "=================================================================\n",
            "Total params: 75\n",
            "Trainable params: 75\n",
            "Non-trainable params: 0\n",
            "_________________________________________________________________\n"
          ]
        }
      ]
    },
    {
      "cell_type": "code",
      "source": [
        "import matplotlib.pyplot as plot\n",
        "fig, axes = plot.subplots(nrows=1, ncols=2, figsize=(8, 4))\n",
        "# Plot training & validation accuracy values\n",
        "axes[0].plot(data.history['accuracy'])\n",
        "axes[0].plot(data.history['val_accuracy'])\n",
        "axes[0].legend(['Train', 'Validation'], loc='upper left')\n",
        "axes[0].set_title('Accuracy Curve for circles0.3')\n",
        "axes[0].set_ylabel('Accuracy')\n",
        "axes[0].set_xlabel('Epoch')\n",
        "\n",
        "plot.tight_layout()\n",
        "plot.show()"
      ],
      "metadata": {
        "colab": {
          "base_uri": "https://localhost:8080/",
          "height": 297
        },
        "id": "jSGTgoDHQCQN",
        "outputId": "4beee1d4-307e-419a-e475-6879d558d93c"
      },
      "execution_count": 9,
      "outputs": [
        {
          "output_type": "display_data",
          "data": {
            "text/plain": [
              "<Figure size 576x288 with 2 Axes>"
            ],
            "image/png": "[encoded data removed]"
          },
          "metadata": {
            "needs_background": "light"
          }
        }
      ]
    },
    {
      "cell_type": "code",
      "source": [],
      "metadata": {
        "id": "rZ1BJ8PpQCWN"
      },
      "execution_count": null,
      "outputs": []
    },
    {
      "cell_type": "code",
      "source": [
        "Y_circles_pred = model_2.predict(X_circles_test)>0.5\n",
        "from sklearn.preprocessing import LabelEncoder\n",
        "label_encoder = LabelEncoder()\n",
        "Y_circles_pred = label_encoder.fit_transform(Y_circles_pred)\n",
        "print(Y_circles_pred)"
      ],
      "metadata": {
        "colab": {
          "base_uri": "https://localhost:8080/"
        },
        "id": "hoxpNc6SVEVQ",
        "outputId": "3856f813-0e76-4889-bb03-cd71c44e0656"
      },
      "execution_count": 10,
      "outputs": [
        {
          "output_type": "stream",
          "name": "stdout",
          "text": [
            "7/7 [==============================] - 0s 2ms/step\n",
            "[0 1 0 0 1 0 1 1 1 1 1 1 1 1 1 1 0 0 1 0 1 0 0 0 1 1 0 1 0 1 0 0 1 0 0 0 0\n",
            " 1 0 0 1 0 0 0 1 0 0 0 1 1 1 0 1 0 1 1 1 0 0 0 1 0 1 1 0 0 1 0 1 0 1 1 1 0\n",
            " 1 0 1 0 0 1 0 0 1 1 1 1 1 1 1 0 1 0 0 0 0 1 1 0 0 1 0 0 1 1 1 0 0 0 0 0 1\n",
            " 0 0 0 0 0 1 0 1 0 0 0 0 0 1 1 1 1 0 1 0 0 1 1 1 1 0 0 1 1 1 0 1 0 1 0 1 0\n",
            " 1 1 1 0 1 1 0 0 1 0 1 0 1 0 1 0 0 1 0 1 0 1 0 1 1 1 1 1 0 1 1 1 1 0 1 1 0\n",
            " 0 0 0 1 0 0 0 1 1 1 0 1 1 0 1]\n"
          ]
        },
        {
          "output_type": "stream",
          "name": "stderr",
          "text": [
            "/usr/local/lib/python3.7/dist-packages/sklearn/preprocessing/_label.py:115: DataConversionWarning: A column-vector y was passed when a 1d array was expected. Please change the shape of y to (n_samples, ), for example using ravel().\n",
            "  y = column_or_1d(y, warn=True)\n"
          ]
        }
      ]
    },
    {
      "cell_type": "code",
      "source": [
        "from sklearn.metrics import confusion_matrix, accuracy_score\n",
        "circles_RF_cm = confusion_matrix(y_circles_test,Y_circles_pred)\n",
        "print (\"Confusion matrix for circles Dataset with RF classifier is : \")\n",
        "print(circles_RF_cm)\n",
        "\n",
        "circles_RF_ac = (accuracy_score(y_circles_test,Y_circles_pred)*100)\n",
        "print (\"Accuracy for circles Dataset with RF classifier is :\")\n",
        "print(circles_RF_ac)"
      ],
      "metadata": {
        "colab": {
          "base_uri": "https://localhost:8080/"
        },
        "id": "C8J0DZvpVA__",
        "outputId": "5167895f-d231-4716-b732-91f47e439ced"
      },
      "execution_count": 11,
      "outputs": [
        {
          "output_type": "stream",
          "name": "stdout",
          "text": [
            "Confusion matrix for circles Dataset with RF classifier is : \n",
            "[[ 97   0]\n",
            " [  1 102]]\n",
            "Accuracy for circles Dataset with RF classifier is :\n",
            "99.5\n"
          ]
        }
      ]
    },
    {
      "cell_type": "code",
      "source": [],
      "metadata": {
        "id": "xOkgRmMWZDFp"
      },
      "execution_count": 12,
      "outputs": []
    }
  ]
}