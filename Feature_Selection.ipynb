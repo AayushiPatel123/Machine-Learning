{
  "cells": [
    {
      "cell_type": "markdown",
      "metadata": {
        "id": "view-in-github",
        "colab_type": "text"
      },
      "source": [
        "<a href=\"https://colab.research.google.com/github/AayushiPatel123/Machine-Learning/blob/Feature-Selection/Feature_Selection.ipynb\" target=\"_parent\"><img src=\"https://colab.research.google.com/assets/colab-badge.svg\" alt=\"Open In Colab\"/></a>"
      ]
    },
    {
      "cell_type": "code",
      "execution_count": null,
      "metadata": {
        "id": "iNXAHvddTpzT"
      },
      "outputs": [],
      "source": [
        "import pandas as pd\n",
        "import matplotlib.pyplot as plt\n",
        "import numpy as np"
      ]
    },
    {
      "cell_type": "code",
      "execution_count": null,
      "metadata": {
        "id": "10Wp_VUIT1C8"
      },
      "outputs": [],
      "source": [
        "cancer_dataset=pd.read_csv('Breastcancer.csv')"
      ]
    },
    {
      "cell_type": "markdown",
      "source": [
        "# MrMr Feature Selection Method"
      ],
      "metadata": {
        "id": "1AdNIRKKoS9r"
      }
    },
    {
      "cell_type": "code",
      "source": [
        "!pip install mrmr_selection"
      ],
      "metadata": {
        "colab": {
          "base_uri": "https://localhost:8080/"
        },
        "id": "OfHAcNjkNxFK",
        "outputId": "a13e563e-596e-4772-8329-c83f508b979d"
      },
      "execution_count": null,
      "outputs": [
        {
          "output_type": "stream",
          "name": "stdout",
          "text": [
            "Looking in indexes: https://pypi.org/simple, https://us-python.pkg.dev/colab-wheels/public/simple/\n",
            "Collecting mrmr_selection\n",
            "  Downloading mrmr_selection-0.2.5-py3-none-any.whl (24 kB)\n",
            "Requirement already satisfied: pandas>=1.0.3 in /usr/local/lib/python3.7/dist-packages (from mrmr_selection) (1.3.5)\n",
            "Requirement already satisfied: joblib in /usr/local/lib/python3.7/dist-packages (from mrmr_selection) (1.2.0)\n",
            "Collecting sklearn\n",
            "  Downloading sklearn-0.0.post1.tar.gz (3.6 kB)\n",
            "Requirement already satisfied: scipy in /usr/local/lib/python3.7/dist-packages (from mrmr_selection) (1.7.3)\n",
            "Requirement already satisfied: jinja2 in /usr/local/lib/python3.7/dist-packages (from mrmr_selection) (2.11.3)\n",
            "Collecting category-encoders\n",
            "  Downloading category_encoders-2.5.1.post0-py2.py3-none-any.whl (72 kB)\n",
            "\u001b[K     |████████████████████████████████| 72 kB 685 kB/s \n",
            "\u001b[?25hRequirement already satisfied: numpy>=1.18.1 in /usr/local/lib/python3.7/dist-packages (from mrmr_selection) (1.21.6)\n",
            "Requirement already satisfied: tqdm in /usr/local/lib/python3.7/dist-packages (from mrmr_selection) (4.64.1)\n",
            "Requirement already satisfied: pytz>=2017.3 in /usr/local/lib/python3.7/dist-packages (from pandas>=1.0.3->mrmr_selection) (2022.6)\n",
            "Requirement already satisfied: python-dateutil>=2.7.3 in /usr/local/lib/python3.7/dist-packages (from pandas>=1.0.3->mrmr_selection) (2.8.2)\n",
            "Requirement already satisfied: six>=1.5 in /usr/local/lib/python3.7/dist-packages (from python-dateutil>=2.7.3->pandas>=1.0.3->mrmr_selection) (1.15.0)\n",
            "Requirement already satisfied: scikit-learn>=0.20.0 in /usr/local/lib/python3.7/dist-packages (from category-encoders->mrmr_selection) (1.0.2)\n",
            "Requirement already satisfied: patsy>=0.5.1 in /usr/local/lib/python3.7/dist-packages (from category-encoders->mrmr_selection) (0.5.3)\n",
            "Requirement already satisfied: statsmodels>=0.9.0 in /usr/local/lib/python3.7/dist-packages (from category-encoders->mrmr_selection) (0.12.2)\n",
            "Requirement already satisfied: threadpoolctl>=2.0.0 in /usr/local/lib/python3.7/dist-packages (from scikit-learn>=0.20.0->category-encoders->mrmr_selection) (3.1.0)\n",
            "Requirement already satisfied: MarkupSafe>=0.23 in /usr/local/lib/python3.7/dist-packages (from jinja2->mrmr_selection) (2.0.1)\n",
            "Building wheels for collected packages: sklearn\n",
            "  Building wheel for sklearn (setup.py) ... \u001b[?25l\u001b[?25hdone\n",
            "  Created wheel for sklearn: filename=sklearn-0.0.post1-py3-none-any.whl size=2344 sha256=5ea3481e9fcb8b5cacf896943023deea78b3ca05281c8df9316aa9987f4ec2c2\n",
            "  Stored in directory: /root/.cache/pip/wheels/42/56/cc/4a8bf86613aafd5b7f1b310477667c1fca5c51c3ae4124a003\n",
            "Successfully built sklearn\n",
            "Installing collected packages: sklearn, category-encoders, mrmr-selection\n",
            "Successfully installed category-encoders-2.5.1.post0 mrmr-selection-0.2.5 sklearn-0.0.post1\n"
          ]
        }
      ]
    },
    {
      "cell_type": "code",
      "execution_count": null,
      "metadata": {
        "id": "r-I7ZIwrUbpT",
        "colab": {
          "base_uri": "https://localhost:8080/"
        },
        "outputId": "a8b73d0e-5b99-40af-eb4a-65989e3f7360"
      },
      "outputs": [
        {
          "output_type": "stream",
          "name": "stderr",
          "text": [
            "100%|██████████| 20/20 [01:28<00:00,  4.42s/it]\n"
          ]
        }
      ],
      "source": [
        "\n",
        "X_cancer = cancer_dataset.iloc[:,:-1]#independent variable columns\n",
        "Y_cancer = cancer_dataset.iloc[:,-1] #dependent variable\n",
        "from mrmr import mrmr_classif\n",
        "X_features = mrmr_classif(X=X_cancer, y=Y_cancer, K=20)"
      ]
    },
    {
      "cell_type": "code",
      "source": [
        "X_cancer = cancer_dataset[[\"FOXA1\",\"HES4\",\"IDH2\",\"ZAK\",\"ATL2\",\"CORO2B\",\"AGR3\",\"AR\",\"TBC1D9\",\"SLC7A8\",\n",
        "                           \"ZFP36L1\",\"GATA3\",\"TFF3\",\"MIEN1\",\"CENPF\",\"XBP1\",\"UGT8\",\"AGR2\",\"TESC\",\"THSD4\" ]]\n",
        "from sklearn.model_selection import train_test_split\n",
        "X_train,X_test,y_train,y_test = train_test_split( X_cancer, Y_cancer, test_size=0.2,random_state=0)"
      ],
      "metadata": {
        "id": "hwDz0SyzOoTT"
      },
      "execution_count": null,
      "outputs": []
    },
    {
      "cell_type": "markdown",
      "source": [
        "## SVM Linear Classification Method"
      ],
      "metadata": {
        "id": "O_gCTSqEoiqF"
      }
    },
    {
      "cell_type": "code",
      "execution_count": null,
      "metadata": {
        "colab": {
          "base_uri": "https://localhost:8080/"
        },
        "id": "09ENW0t6v0t5",
        "outputId": "e49f9b5b-81de-41ba-c013-29aac107af5b"
      },
      "outputs": [
        {
          "output_type": "stream",
          "name": "stdout",
          "text": [
            "cm of linear svm is \n",
            "  [[7 0 0 0]\n",
            " [0 7 1 0]\n",
            " [0 0 9 0]\n",
            " [0 0 4 4]]\n",
            "accuracy of linear svm is \n",
            "  84.375\n"
          ]
        }
      ],
      "source": [
        "from sklearn.svm import SVC\n",
        "\n",
        "#Linear Classifier\n",
        "cancer_linear_classifier = SVC(C=1.0,kernel='linear')\n",
        "cancer_linear_classifier.fit(X_train,y_train)\n",
        "Y_cancer_linear_pred = cancer_linear_classifier.predict(X_test)\n",
        "\n",
        "from sklearn.metrics import confusion_matrix, accuracy_score\n",
        "cancer_linear_cm = confusion_matrix(y_test,Y_cancer_linear_pred)\n",
        "print(\"cm of linear svm is \\n \", cancer_linear_cm)\n",
        "\n",
        "circles_linear_ac = (accuracy_score(y_test,Y_cancer_linear_pred)*100)\n",
        "print(\"accuracy of linear svm is \\n \", circles_linear_ac)"
      ]
    },
    {
      "cell_type": "markdown",
      "source": [
        "## Random Forest Classification Method"
      ],
      "metadata": {
        "id": "zfS3DZUIqArz"
      }
    },
    {
      "cell_type": "code",
      "execution_count": null,
      "metadata": {
        "id": "AgPsOdfvwI5x",
        "colab": {
          "base_uri": "https://localhost:8080/"
        },
        "outputId": "5aef506b-1aa0-493c-cbed-dcb3c4fbb6c4"
      },
      "outputs": [
        {
          "output_type": "stream",
          "name": "stdout",
          "text": [
            "cm of Random Forest is \n",
            "  [[7 0 0 0]\n",
            " [0 8 0 0]\n",
            " [0 0 9 0]\n",
            " [0 0 5 3]]\n",
            "accuracy of Random Forest  is \n",
            "  84.375\n"
          ]
        }
      ],
      "source": [
        "from sklearn.ensemble import RandomForestClassifier\n",
        "cancer_RF_classifier = RandomForestClassifier( random_state=0, criterion = 'entropy', n_estimators = 150)\n",
        "cancer_RF_classifier.fit(X_train,y_train)\n",
        "Y_cancer_RF_pred = cancer_RF_classifier.predict(X_test)\n",
        "\n",
        "from sklearn.metrics import confusion_matrix, accuracy_score\n",
        "cancer_RF_cm = confusion_matrix(y_test,Y_cancer_RF_pred)\n",
        "print(\"cm of Random Forest is \\n \", cancer_RF_cm)\n",
        "\n",
        "circles_RF_ac = (accuracy_score(y_test,Y_cancer_RF_pred)*100)\n",
        "print(\"accuracy of Random Forest  is \\n \", circles_RF_ac)"
      ]
    },
    {
      "cell_type": "markdown",
      "source": [
        "## Neural networks"
      ],
      "metadata": {
        "id": "v8oLdCHYlyLb"
      }
    },
    {
      "cell_type": "code",
      "source": [
        "Y_cancer = cancer_dataset.iloc[:,-1] #dependent variable\n",
        "from sklearn.preprocessing import LabelEncoder\n",
        "labelencoder = LabelEncoder()\n",
        "Y_cancer = labelencoder.fit_transform(Y_cancer)\n",
        "from sklearn.model_selection import train_test_split\n",
        "X_train,X_test,y_train,y_test = train_test_split( X_cancer, Y_cancer, test_size=0.2,random_state=0)\n",
        "import tensorflow as tf\n",
        "from tensorflow import keras\n",
        "model_2 = tf.keras.models.Sequential()\n",
        "#Input and hidden sigmoid\n",
        "model_2.add(tf.keras.layers.Dense(units = 6, activation = 'sigmoid'))\n",
        "#2nd Hidden layer\n",
        "model_2.add(tf.keras.layers.Dense(units = 7, activation = 'sigmoid'))\n",
        "#output layer\n",
        "model_2.add(tf.keras.layers.Dense(units = 5, activation = 'relu'))\n",
        "#compiling the NN\n",
        "model_2.compile ( optimizer='sgd', metrics= ['accuracy'] ,loss= 'binary_crossentropy' )\n",
        "# fitting the model with batch learning\n",
        "model_2.fit(X_train,y_train, batch_size = 32, epochs = 50,validation_data=(X_cancer, Y_cancer) )"
      ],
      "metadata": {
        "colab": {
          "base_uri": "https://localhost:8080/"
        },
        "id": "Mm4cv2B4lwy4",
        "outputId": "eac11ff7-4e22-4fe0-ddbd-48be8d31714c"
      },
      "execution_count": null,
      "outputs": [
        {
          "output_type": "stream",
          "name": "stdout",
          "text": [
            "Epoch 1/50\n",
            "4/4 [==============================] - 1s 80ms/step - loss: 6.0968 - accuracy: 0.1111 - val_loss: 5.4710 - val_accuracy: 0.0823\n",
            "Epoch 2/50\n",
            "4/4 [==============================] - 0s 10ms/step - loss: 4.2887 - accuracy: 0.1032 - val_loss: 2.9836 - val_accuracy: 0.0823\n",
            "Epoch 3/50\n",
            "4/4 [==============================] - 0s 12ms/step - loss: 2.9009 - accuracy: 0.1032 - val_loss: 2.4983 - val_accuracy: 0.0823\n",
            "Epoch 4/50\n",
            "4/4 [==============================] - 0s 11ms/step - loss: 1.4681 - accuracy: 0.1190 - val_loss: -0.5770 - val_accuracy: 0.2468\n",
            "Epoch 5/50\n",
            "4/4 [==============================] - 0s 10ms/step - loss: -2.2603 - accuracy: 0.2540 - val_loss: -3.7377 - val_accuracy: 0.2468\n",
            "Epoch 6/50\n",
            "4/4 [==============================] - 0s 15ms/step - loss: -4.2199 - accuracy: 0.2540 - val_loss: -3.2267 - val_accuracy: 0.2468\n",
            "Epoch 7/50\n",
            "4/4 [==============================] - 0s 11ms/step - loss: -4.0498 - accuracy: 0.2540 - val_loss: -3.9260 - val_accuracy: 0.2468\n",
            "Epoch 8/50\n",
            "4/4 [==============================] - 0s 11ms/step - loss: -4.4047 - accuracy: 0.2540 - val_loss: -4.0303 - val_accuracy: 0.2468\n",
            "Epoch 9/50\n",
            "4/4 [==============================] - 0s 16ms/step - loss: -4.3657 - accuracy: 0.2540 - val_loss: -4.0370 - val_accuracy: 0.2468\n",
            "Epoch 10/50\n",
            "4/4 [==============================] - 0s 11ms/step - loss: -4.2480 - accuracy: 0.2540 - val_loss: -4.0368 - val_accuracy: 0.2468\n",
            "Epoch 11/50\n",
            "4/4 [==============================] - 0s 10ms/step - loss: -4.4201 - accuracy: 0.2540 - val_loss: -4.0933 - val_accuracy: 0.2468\n",
            "Epoch 12/50\n",
            "4/4 [==============================] - 0s 12ms/step - loss: -4.2057 - accuracy: 0.2698 - val_loss: -3.5489 - val_accuracy: 0.2848\n",
            "Epoch 13/50\n",
            "4/4 [==============================] - 0s 12ms/step - loss: -3.9317 - accuracy: 0.3016 - val_loss: -3.5489 - val_accuracy: 0.2848\n",
            "Epoch 14/50\n",
            "4/4 [==============================] - 0s 11ms/step - loss: -3.9317 - accuracy: 0.3016 - val_loss: -3.5489 - val_accuracy: 0.2848\n",
            "Epoch 15/50\n",
            "4/4 [==============================] - 0s 19ms/step - loss: -3.9317 - accuracy: 0.3016 - val_loss: -3.5489 - val_accuracy: 0.2848\n",
            "Epoch 16/50\n",
            "4/4 [==============================] - 0s 15ms/step - loss: -3.9317 - accuracy: 0.3016 - val_loss: -3.5489 - val_accuracy: 0.2848\n",
            "Epoch 17/50\n",
            "4/4 [==============================] - 0s 12ms/step - loss: -3.9317 - accuracy: 0.3016 - val_loss: -3.5489 - val_accuracy: 0.2848\n",
            "Epoch 18/50\n",
            "4/4 [==============================] - 0s 13ms/step - loss: -3.9317 - accuracy: 0.3016 - val_loss: -3.5489 - val_accuracy: 0.2848\n",
            "Epoch 19/50\n",
            "4/4 [==============================] - 0s 11ms/step - loss: -3.9317 - accuracy: 0.3016 - val_loss: -3.5489 - val_accuracy: 0.2848\n",
            "Epoch 20/50\n",
            "4/4 [==============================] - 0s 10ms/step - loss: -3.9317 - accuracy: 0.3016 - val_loss: -3.5489 - val_accuracy: 0.2848\n",
            "Epoch 21/50\n",
            "4/4 [==============================] - 0s 13ms/step - loss: -3.9317 - accuracy: 0.3016 - val_loss: -3.5489 - val_accuracy: 0.2848\n",
            "Epoch 22/50\n",
            "4/4 [==============================] - 0s 10ms/step - loss: -3.9317 - accuracy: 0.3016 - val_loss: -3.5489 - val_accuracy: 0.2848\n",
            "Epoch 23/50\n",
            "4/4 [==============================] - 0s 11ms/step - loss: -3.9317 - accuracy: 0.3016 - val_loss: -3.5489 - val_accuracy: 0.2848\n",
            "Epoch 24/50\n",
            "4/4 [==============================] - 0s 11ms/step - loss: -3.9317 - accuracy: 0.3016 - val_loss: -3.5489 - val_accuracy: 0.2848\n",
            "Epoch 25/50\n",
            "4/4 [==============================] - 0s 10ms/step - loss: -3.9317 - accuracy: 0.3016 - val_loss: -3.5489 - val_accuracy: 0.2848\n",
            "Epoch 26/50\n",
            "4/4 [==============================] - 0s 15ms/step - loss: -3.9317 - accuracy: 0.3016 - val_loss: -3.5489 - val_accuracy: 0.2848\n",
            "Epoch 27/50\n",
            "4/4 [==============================] - 0s 12ms/step - loss: -3.9317 - accuracy: 0.3016 - val_loss: -3.5489 - val_accuracy: 0.2848\n",
            "Epoch 28/50\n",
            "4/4 [==============================] - 0s 11ms/step - loss: -3.9317 - accuracy: 0.3016 - val_loss: -3.5489 - val_accuracy: 0.2848\n",
            "Epoch 29/50\n",
            "4/4 [==============================] - 0s 11ms/step - loss: -3.9317 - accuracy: 0.3016 - val_loss: -3.5489 - val_accuracy: 0.2848\n",
            "Epoch 30/50\n",
            "4/4 [==============================] - 0s 13ms/step - loss: -3.9317 - accuracy: 0.3016 - val_loss: -3.5489 - val_accuracy: 0.2848\n",
            "Epoch 31/50\n",
            "4/4 [==============================] - 0s 10ms/step - loss: -3.9317 - accuracy: 0.3016 - val_loss: -3.5489 - val_accuracy: 0.2848\n",
            "Epoch 32/50\n",
            "4/4 [==============================] - 0s 10ms/step - loss: -3.9317 - accuracy: 0.3016 - val_loss: -3.5489 - val_accuracy: 0.2848\n",
            "Epoch 33/50\n",
            "4/4 [==============================] - 0s 16ms/step - loss: -3.9317 - accuracy: 0.3016 - val_loss: -3.5489 - val_accuracy: 0.2848\n",
            "Epoch 34/50\n",
            "4/4 [==============================] - 0s 10ms/step - loss: -3.9317 - accuracy: 0.3016 - val_loss: -3.5489 - val_accuracy: 0.2848\n",
            "Epoch 35/50\n",
            "4/4 [==============================] - 0s 15ms/step - loss: -3.9317 - accuracy: 0.3016 - val_loss: -3.5489 - val_accuracy: 0.2848\n",
            "Epoch 36/50\n",
            "4/4 [==============================] - 0s 18ms/step - loss: -3.9317 - accuracy: 0.3016 - val_loss: -3.5489 - val_accuracy: 0.2848\n",
            "Epoch 37/50\n",
            "4/4 [==============================] - 0s 11ms/step - loss: -3.9317 - accuracy: 0.3016 - val_loss: -3.5489 - val_accuracy: 0.2848\n",
            "Epoch 38/50\n",
            "4/4 [==============================] - 0s 16ms/step - loss: -3.9317 - accuracy: 0.3016 - val_loss: -3.5489 - val_accuracy: 0.2848\n",
            "Epoch 39/50\n",
            "4/4 [==============================] - 0s 12ms/step - loss: -3.9317 - accuracy: 0.3016 - val_loss: -3.5489 - val_accuracy: 0.2848\n",
            "Epoch 40/50\n",
            "4/4 [==============================] - 0s 10ms/step - loss: -3.9317 - accuracy: 0.3016 - val_loss: -3.5489 - val_accuracy: 0.2848\n",
            "Epoch 41/50\n",
            "4/4 [==============================] - 0s 15ms/step - loss: -3.9317 - accuracy: 0.3016 - val_loss: -3.5489 - val_accuracy: 0.2848\n",
            "Epoch 42/50\n",
            "4/4 [==============================] - 0s 18ms/step - loss: -3.9317 - accuracy: 0.3016 - val_loss: -3.5489 - val_accuracy: 0.2848\n",
            "Epoch 43/50\n",
            "4/4 [==============================] - 0s 10ms/step - loss: -3.9317 - accuracy: 0.3016 - val_loss: -3.5489 - val_accuracy: 0.2848\n",
            "Epoch 44/50\n",
            "4/4 [==============================] - 0s 10ms/step - loss: -3.9317 - accuracy: 0.3016 - val_loss: -3.5489 - val_accuracy: 0.2848\n",
            "Epoch 45/50\n",
            "4/4 [==============================] - 0s 10ms/step - loss: -3.9317 - accuracy: 0.3016 - val_loss: -3.5489 - val_accuracy: 0.2848\n",
            "Epoch 46/50\n",
            "4/4 [==============================] - 0s 12ms/step - loss: -3.9317 - accuracy: 0.3016 - val_loss: -3.5489 - val_accuracy: 0.2848\n",
            "Epoch 47/50\n",
            "4/4 [==============================] - 0s 16ms/step - loss: -3.9317 - accuracy: 0.3016 - val_loss: -3.5489 - val_accuracy: 0.2848\n",
            "Epoch 48/50\n",
            "4/4 [==============================] - 0s 14ms/step - loss: -3.9317 - accuracy: 0.3016 - val_loss: -3.5489 - val_accuracy: 0.2848\n",
            "Epoch 49/50\n",
            "4/4 [==============================] - 0s 16ms/step - loss: -3.9317 - accuracy: 0.3016 - val_loss: -3.5489 - val_accuracy: 0.2848\n",
            "Epoch 50/50\n",
            "4/4 [==============================] - 0s 12ms/step - loss: -3.9317 - accuracy: 0.3016 - val_loss: -3.5489 - val_accuracy: 0.2848\n"
          ]
        },
        {
          "output_type": "execute_result",
          "data": {
            "text/plain": [
              "<keras.callbacks.History at 0x7faa2ec9d810>"
            ]
          },
          "metadata": {},
          "execution_count": 10
        }
      ]
    },
    {
      "cell_type": "code",
      "source": [
        "from sklearn.neural_network import MLPClassifier\n",
        "circles_NN_classifier = MLPClassifier(solver = 'lbfgs', activation = 'logistic')\n",
        "circles_NN_classifier.fit(X_train,y_train)\n",
        "Y_circles_NN_pred = circles_NN_classifier.predict(X_test)\n",
        "\n",
        "from sklearn.metrics import confusion_matrix, accuracy_score\n",
        "circles_NN_cm = confusion_matrix(y_test,Y_circles_NN_pred)\n",
        "print (\"Confusion matrix for circles Dataset with MLP classifier is : \")\n",
        "print(circles_NN_cm)\n",
        "\n",
        "circles_NN_ac = (accuracy_score(y_test,Y_circles_NN_pred)*100)\n",
        "print (\"Accuracy for circles Dataset with MLP classifier is :\")\n",
        "print(circles_NN_ac)"
      ],
      "metadata": {
        "colab": {
          "base_uri": "https://localhost:8080/"
        },
        "id": "rXn3ATdF4zpF",
        "outputId": "e61eccda-1a89-4b80-c767-e4f1785eb82a"
      },
      "execution_count": null,
      "outputs": [
        {
          "output_type": "stream",
          "name": "stdout",
          "text": [
            "Confusion matrix for circles Dataset with MLP classifier is : \n",
            "[[7 0 0 0]\n",
            " [0 8 0 0]\n",
            " [0 0 9 0]\n",
            " [0 0 3 5]]\n",
            "Accuracy for circles Dataset with MLP classifier is :\n",
            "90.625\n"
          ]
        }
      ]
    },
    {
      "cell_type": "code",
      "source": [],
      "metadata": {
        "id": "BT0RjcXzlqAE"
      },
      "execution_count": null,
      "outputs": []
    },
    {
      "cell_type": "markdown",
      "source": [
        "# Information Gain Feature Selection Method"
      ],
      "metadata": {
        "id": "15_NieWOoKXo"
      }
    },
    {
      "cell_type": "code",
      "execution_count": null,
      "metadata": {
        "id": "h4rURnofZjO6"
      },
      "outputs": [],
      "source": [
        "X_cancer = cancer_dataset.iloc[:,:-1]#independent variable columns\n",
        "Y_cancer = cancer_dataset.iloc[:,-1] #dependent variable\n",
        "from sklearn.preprocessing import LabelEncoder\n",
        "labelencoder = LabelEncoder()\n",
        "Y_cancer = labelencoder.fit_transform(Y_cancer)\n",
        "from sklearn.feature_selection import SelectPercentile \n",
        "selector = SelectPercentile(percentile=50)\n",
        "selector.fit(X_cancer,Y_cancer)\n",
        "X_cancer = selector.transform(X_cancer)\n",
        "\n",
        "from sklearn.model_selection import train_test_split\n",
        "X_cancer_train,X_cancer_test,y_cancer_train,y_cancer_test = train_test_split( X_cancer, Y_cancer, test_size=0.2,random_state=0)\n"
      ]
    },
    {
      "cell_type": "markdown",
      "source": [
        "## SVM Classifier "
      ],
      "metadata": {
        "id": "MVPP4TojmJy5"
      }
    },
    {
      "cell_type": "code",
      "execution_count": null,
      "metadata": {
        "id": "hFc9eWDJrRha",
        "colab": {
          "base_uri": "https://localhost:8080/"
        },
        "outputId": "9f5f176d-e057-4982-81e8-59b273cb606a"
      },
      "outputs": [
        {
          "output_type": "stream",
          "name": "stdout",
          "text": [
            "cm of linear svm is \n",
            "  [[7 0 0 0]\n",
            " [0 8 0 0]\n",
            " [0 0 9 0]\n",
            " [0 0 5 3]]\n",
            "accuracy of linear svm is \n",
            "  84.375\n"
          ]
        }
      ],
      "source": [
        "from sklearn.svm import SVC\n",
        "\n",
        "#Linear Classifier\n",
        "cancer_linear_classifier = SVC(C=1.0,kernel='linear')\n",
        "cancer_linear_classifier.fit(X_cancer_train,y_cancer_train)\n",
        "Y_cancer_linear_pred = cancer_linear_classifier.predict(X_cancer_test)\n",
        "from sklearn.metrics import confusion_matrix, accuracy_score\n",
        "cancer_linear_cm = confusion_matrix(y_cancer_test,Y_cancer_linear_pred)\n",
        "print(\"cm of linear svm is \\n \", cancer_linear_cm)\n",
        "\n",
        "circles_linear_ac = (accuracy_score(y_cancer_test,Y_cancer_linear_pred)*100)\n",
        "print(\"accuracy of linear svm is \\n \", circles_linear_ac)"
      ]
    },
    {
      "cell_type": "code",
      "source": [
        "from sklearn.model_selection import cross_val_score\n",
        "cancer_svm_accuracies = cross_val_score( estimator = cancer_linear_classifier, X =X_cancer_train, y=y_cancer_train, cv=10)\n",
        "print(\"Accuracy for Circles_Dataset using linear SVM: {:.2f} %\".format(cancer_svm_accuracies.mean()*100))"
      ],
      "metadata": {
        "colab": {
          "base_uri": "https://localhost:8080/"
        },
        "id": "6aBiseZQD1py",
        "outputId": "04caadc6-f4fe-4b32-9252-e5adbd4cf9bc"
      },
      "execution_count": null,
      "outputs": [
        {
          "output_type": "stream",
          "name": "stdout",
          "text": [
            "Accuracy for Circles_Dataset using linear SVM: 81.22 %\n"
          ]
        }
      ]
    },
    {
      "cell_type": "code",
      "source": [
        "import sklearn.metrics\n",
        "import math\n",
        "def matrix_metrix(y_cancer_test,Y_cancer_linear_pred,beta):\n",
        "   CM = confusion_matrix(y_cancer_test,Y_cancer_linear_pred)\n",
        "   TN = CM[0][0]\n",
        "   FN = CM[1][0] \n",
        "   TP = CM[1][1]\n",
        "   FP = CM[0][1]\n",
        "   Population = TN+FN+TP+FP\n",
        "   Prevalence = round( (TP+FP) / Population*100)\n",
        "   Sensitivity= round(TP/(TP+FN)*100)\n",
        "   Specificity= round(TN/(TN+FP)*100)\n",
        "   Accuracy   = round( ((TP+TN)/ Population)*100,4)\n",
        "   PPV  = round(( TP / (TP+FP))*100,2)\n",
        "   NPV        = round( TN / (TN+FN)*100,2)  \n",
        "   mat_met = pd.DataFrame({\n",
        "'Metric':['TP','TN','FP','FN','Prevalence','Sensitivity','Specificity','Accuracy','PPV','NPV'],     'Value':[TP,TN,FP,FN,Prevalence,Sensitivity,Specificity,Accuracy,PPV,NPV]})\n",
        "   return (mat_met)"
      ],
      "metadata": {
        "id": "Xv8s3jogCcik"
      },
      "execution_count": null,
      "outputs": []
    },
    {
      "cell_type": "code",
      "source": [
        "beta = 0.4\n",
        "mat_met = matrix_metrix(y_cancer_test,Y_cancer_linear_pred,beta)\n",
        "#convert float into integer\n",
        "def round_int(x):\n",
        "    if x in [float(\"-inf\"),float(\"inf\")]: return float(\"nan\")\n",
        "    return int(round(x))\n",
        "print (mat_met)"
      ],
      "metadata": {
        "colab": {
          "base_uri": "https://localhost:8080/"
        },
        "id": "cgBJs4dfDcCR",
        "outputId": "488eb4e6-70a3-4ecb-90eb-d765bbfcfcd2"
      },
      "execution_count": null,
      "outputs": [
        {
          "output_type": "stream",
          "name": "stdout",
          "text": [
            "        Metric  Value\n",
            "0           TP    8.0\n",
            "1           TN    7.0\n",
            "2           FP    0.0\n",
            "3           FN    0.0\n",
            "4   Prevalence   53.0\n",
            "5  Sensitivity  100.0\n",
            "6  Specificity  100.0\n",
            "7     Accuracy  100.0\n",
            "8          PPV  100.0\n",
            "9          NPV  100.0\n"
          ]
        }
      ]
    },
    {
      "cell_type": "markdown",
      "source": [
        "##  Random forest Classification Method"
      ],
      "metadata": {
        "id": "vYwpCvExmaEz"
      }
    },
    {
      "cell_type": "code",
      "source": [
        "from sklearn.ensemble import RandomForestClassifier\n",
        "cancer_RF_classifier = RandomForestClassifier( random_state=0, criterion = 'entropy', n_estimators = 150)\n",
        "cancer_RF_classifier.fit(X_cancer_train,y_cancer_train)\n",
        "Y_cancer_RF_pred = cancer_RF_classifier.predict(X_cancer_test)\n",
        "\n",
        "from sklearn.metrics import confusion_matrix, accuracy_score\n",
        "cancer_RF_cm = confusion_matrix(y_cancer_test,Y_cancer_RF_pred)\n",
        "print(\"cm of Random Forest is \\n \", cancer_RF_cm)\n",
        "\n",
        "circles_RF_ac = (accuracy_score(y_cancer_test,Y_cancer_RF_pred)*100)\n",
        "print(\"accuracy of Random Forest  is \\n \", circles_RF_ac)"
      ],
      "metadata": {
        "colab": {
          "base_uri": "https://localhost:8080/"
        },
        "id": "i_KblMuB6PZo",
        "outputId": "e4d4ee6c-e00d-46f9-e27f-e1a5a2128b53"
      },
      "execution_count": null,
      "outputs": [
        {
          "output_type": "stream",
          "name": "stdout",
          "text": [
            "cm of Random Forest is \n",
            "  [[7 0 0 0]\n",
            " [0 8 0 0]\n",
            " [0 0 9 0]\n",
            " [0 0 5 3]]\n",
            "accuracy of Random Forest  is \n",
            "  84.375\n"
          ]
        }
      ]
    },
    {
      "cell_type": "code",
      "source": [
        "from sklearn.model_selection import cross_val_score\n",
        "from sklearn.model_selection import KFold\n",
        "# cv = KFold(n_splits=10, random_state=1, shuffle=True)\n",
        "# scores = cross_val_score(cancer_RF_classifier, X_cancer_test, y_cancer_test, scoring='accuracy', cv=cv, n_jobs=-1)\n",
        "# print(scores.mean()*100)\n",
        "cancer_svm_accuracies = cross_val_score( estimator = cancer_RF_classifier, X =X_cancer_train, y=y_cancer_train, cv=10)\n",
        "print(\"Accuracy for Circles_Dataset using linear randomforest: {:.2f} %\".format(cancer_svm_accuracies.mean()*100))"
      ],
      "metadata": {
        "colab": {
          "base_uri": "https://localhost:8080/"
        },
        "id": "6-cW2gZCFsPN",
        "outputId": "29a6c526-ec0e-4c60-b4fa-cb7f1615e465"
      },
      "execution_count": null,
      "outputs": [
        {
          "output_type": "stream",
          "name": "stdout",
          "text": [
            "Accuracy for Circles_Dataset using linear randomforest: 85.00 %\n"
          ]
        }
      ]
    },
    {
      "cell_type": "code",
      "source": [
        "import sklearn.metrics\n",
        "import math\n",
        "def matrix_metrix(y_cancer_test,Y_cancer_RF_pred,beta):\n",
        "   CM = confusion_matrix(y_cancer_test,Y_cancer_RF_pred)\n",
        "   TN = CM[0][0]\n",
        "   FN = CM[1][0] \n",
        "   TP = CM[1][1]\n",
        "   FP = CM[0][1]\n",
        "   Population = TN+FN+TP+FP\n",
        "   Prevalence = round( (TP+FP) / Population*100)\n",
        "   Sensitivity= round(TP/(TP+FN)*100)\n",
        "   Specificity= round(TN/(TN+FP)*100)\n",
        "   Accuracy   = round( (TP+TN)/ Population*100,4)\n",
        "   PPV  = round(( TP / (TP+FP))*100,2)\n",
        "   NPV        = round( TN / (TN+FN)*100,2)  \n",
        "   mat_met = pd.DataFrame({\n",
        "'Metric':['TP','TN','FP','FN','Prevalence','Sensitivity','Specificity','Accuracy','PPV','NPV'],     'Value':[TP,TN,FP,FN,Prevalence,Sensitivity,Specificity,Accuracy,PPV,NPV]})\n",
        "   return (mat_met)"
      ],
      "metadata": {
        "id": "QcBuiHOrfJ28"
      },
      "execution_count": null,
      "outputs": []
    },
    {
      "cell_type": "code",
      "source": [
        "beta = 0.4\n",
        "mat_met = matrix_metrix(y_cancer_test,Y_cancer_RF_pred,beta)\n",
        "#convert float into integer\n",
        "def round_int(x):\n",
        "    if x in [float(\"-inf\"),float(\"inf\")]: return float(\"nan\")\n",
        "    return int(round(x))\n",
        "print (mat_met)"
      ],
      "metadata": {
        "colab": {
          "base_uri": "https://localhost:8080/"
        },
        "id": "Z-PBE-_1fO_p",
        "outputId": "f9eb681e-cfd6-4e6f-8ed3-1f4872e46ccd"
      },
      "execution_count": null,
      "outputs": [
        {
          "output_type": "stream",
          "name": "stdout",
          "text": [
            "        Metric  Value\n",
            "0           TP    8.0\n",
            "1           TN    7.0\n",
            "2           FP    0.0\n",
            "3           FN    0.0\n",
            "4   Prevalence   53.0\n",
            "5  Sensitivity  100.0\n",
            "6  Specificity  100.0\n",
            "7     Accuracy  100.0\n",
            "8          PPV  100.0\n",
            "9          NPV  100.0\n"
          ]
        }
      ]
    },
    {
      "cell_type": "markdown",
      "source": [
        "Feature Selection combine with NN"
      ],
      "metadata": {
        "id": "jl4ZSGJ4BgP0"
      }
    },
    {
      "cell_type": "code",
      "source": [
        "from sklearn.neural_network import MLPClassifier\n",
        "circles_NN_classifier = MLPClassifier(solver = 'lbfgs', activation = 'logistic')\n",
        "circles_NN_classifier.fit(X_cancer_train,y_cancer_train)\n",
        "Y_circles_NN_pred = circles_NN_classifier.predict(X_cancer_test)\n",
        "\n",
        "from sklearn.metrics import confusion_matrix, accuracy_score\n",
        "circles_NN_cm = confusion_matrix(y_cancer_test,Y_circles_NN_pred)\n",
        "print (\"Confusion matrix for circles Dataset with MLP classifier is : \")\n",
        "print(circles_NN_cm)\n",
        "\n",
        "circles_NN_ac = (accuracy_score(y_cancer_test,Y_circles_NN_pred)*100)\n",
        "print (\"Accuracy for circles Dataset with MLP classifier is :\")\n",
        "print(circles_NN_ac)"
      ],
      "metadata": {
        "colab": {
          "base_uri": "https://localhost:8080/"
        },
        "id": "I3x87fTg6s2j",
        "outputId": "50bbf558-abd0-4611-8aaa-11a790b6ab9f"
      },
      "execution_count": null,
      "outputs": [
        {
          "output_type": "stream",
          "name": "stdout",
          "text": [
            "Confusion matrix for circles Dataset with MLP classifier is : \n",
            "[[7 0 0 0]\n",
            " [0 8 0 0]\n",
            " [0 0 9 0]\n",
            " [0 0 5 3]]\n",
            "Accuracy for circles Dataset with MLP classifier is :\n",
            "84.375\n"
          ]
        }
      ]
    },
    {
      "cell_type": "markdown",
      "source": [
        "Cross Validation on NN\n"
      ],
      "metadata": {
        "id": "HCBaduPBBW4B"
      }
    },
    {
      "cell_type": "code",
      "source": [
        "cancer_NN_accuracies = cross_val_score( estimator = circles_NN_classifier, X =X_cancer_train, y=y_cancer_train, cv=10)\n",
        "print(\"Accuracy for Circles_Dataset using NN: {:.2f} %\".format(cancer_NN_accuracies.mean()*100))"
      ],
      "metadata": {
        "colab": {
          "base_uri": "https://localhost:8080/"
        },
        "id": "9-_Nyja26s8j",
        "outputId": "78d21022-2668-4467-f0b5-f442446dffcd"
      },
      "execution_count": null,
      "outputs": [
        {
          "output_type": "stream",
          "name": "stdout",
          "text": [
            "Accuracy for Circles_Dataset using NN: 65.32 %\n"
          ]
        }
      ]
    },
    {
      "cell_type": "code",
      "source": [
        "import sklearn.metrics\n",
        "import math\n",
        "def matrix_metrix(y_cancer_test,Y_cancer_linear_pred,beta):\n",
        "   CM = confusion_matrix(y_cancer_test,Y_cancer_linear_pred)\n",
        "   TN = CM[0][0]\n",
        "   FN = CM[1][0] \n",
        "   TP = CM[1][1]\n",
        "   FP = CM[0][1]\n",
        "   Population = TN+FN+TP+FP\n",
        "   Prevalence = round( (TP+FP) / Population*100)\n",
        "   Sensitivity= round(TP/(TP+FN)*100)\n",
        "   Specificity= round(TN/(TN+FP)*100)\n",
        "   Accuracy   = round( ((TP+TN)/ Population)*100,4)\n",
        "   PPV  = round(( TP / (TP+FP))*100,2)\n",
        "   NPV        = round( TN / (TN+FN)*100,2)  \n",
        "   mat_met = pd.DataFrame({\n",
        "'Metric':['TP','TN','FP','FN','Prevalence','Sensitivity','Specificity','Accuracy','PPV','NPV'],     'Value':[TP,TN,FP,FN,Prevalence,Sensitivity,Specificity,Accuracy,PPV,NPV]})\n",
        "   return (mat_met)"
      ],
      "metadata": {
        "id": "6lm9eCpuc0pR"
      },
      "execution_count": null,
      "outputs": []
    },
    {
      "cell_type": "markdown",
      "source": [
        "## Neural Networks "
      ],
      "metadata": {
        "id": "oIx7C7MFmnyy"
      }
    },
    {
      "cell_type": "code",
      "source": [
        "import tensorflow as tf\n",
        "from tensorflow import keras\n",
        "model_2 = tf.keras.models.Sequential()\n",
        "#Input and hidden sigmoid\n",
        "model_2.add(tf.keras.layers.Dense(units = 6, activation = 'sigmoid'))\n",
        "#2nd Hidden layer\n",
        "model_2.add(tf.keras.layers.Dense(units = 7, activation = 'sigmoid'))\n",
        "#output layer\n",
        "model_2.add(tf.keras.layers.Dense(units = 5, activation = 'relu'))\n",
        "#compiling the NN\n",
        "model_2.compile ( optimizer='sgd', metrics= ['accuracy'] ,loss= 'binary_crossentropy' )\n",
        "# fitting the model with batch learning\n",
        "data=model_2.fit(X_cancer_train,y_cancer_train, batch_size = 32, epochs = 50,validation_data=(X_cancer, Y_cancer) )"
      ],
      "metadata": {
        "colab": {
          "base_uri": "https://localhost:8080/"
        },
        "id": "ogeJHEK_dSOT",
        "outputId": "8f2daec9-b314-46dc-8bab-bf7843fb2043"
      },
      "execution_count": null,
      "outputs": [
        {
          "output_type": "stream",
          "name": "stdout",
          "text": [
            "Epoch 1/50\n",
            "4/4 [==============================] - 1s 67ms/step - loss: 9.3685 - accuracy: 0.1111 - val_loss: 8.6788 - val_accuracy: 0.1392\n",
            "Epoch 2/50\n",
            "4/4 [==============================] - 0s 15ms/step - loss: 8.4643 - accuracy: 0.1111 - val_loss: 8.3654 - val_accuracy: 0.1392\n",
            "Epoch 3/50\n",
            "4/4 [==============================] - 0s 15ms/step - loss: 8.4926 - accuracy: 0.1111 - val_loss: 8.1743 - val_accuracy: 0.1392\n",
            "Epoch 4/50\n",
            "4/4 [==============================] - 0s 15ms/step - loss: 7.9907 - accuracy: 0.1111 - val_loss: 5.9252 - val_accuracy: 0.1392\n",
            "Epoch 5/50\n",
            "4/4 [==============================] - 0s 18ms/step - loss: 4.9951 - accuracy: 0.1111 - val_loss: 4.0013 - val_accuracy: 0.1392\n",
            "Epoch 6/50\n",
            "4/4 [==============================] - 0s 19ms/step - loss: 3.8762 - accuracy: 0.1111 - val_loss: 4.0013 - val_accuracy: 0.1392\n",
            "Epoch 7/50\n",
            "4/4 [==============================] - 0s 15ms/step - loss: 3.8762 - accuracy: 0.1111 - val_loss: 4.0013 - val_accuracy: 0.1392\n",
            "Epoch 8/50\n",
            "4/4 [==============================] - 0s 16ms/step - loss: 3.8762 - accuracy: 0.1111 - val_loss: 4.0013 - val_accuracy: 0.1392\n",
            "Epoch 9/50\n",
            "4/4 [==============================] - 0s 14ms/step - loss: 3.8762 - accuracy: 0.1111 - val_loss: 4.0013 - val_accuracy: 0.1392\n",
            "Epoch 10/50\n",
            "4/4 [==============================] - 0s 17ms/step - loss: 3.8762 - accuracy: 0.1111 - val_loss: 4.0013 - val_accuracy: 0.1392\n",
            "Epoch 11/50\n",
            "4/4 [==============================] - 0s 14ms/step - loss: 3.8762 - accuracy: 0.1111 - val_loss: 4.0013 - val_accuracy: 0.1392\n",
            "Epoch 12/50\n",
            "4/4 [==============================] - 0s 33ms/step - loss: 3.8762 - accuracy: 0.1111 - val_loss: 4.0013 - val_accuracy: 0.1392\n",
            "Epoch 13/50\n",
            "4/4 [==============================] - 0s 17ms/step - loss: 3.8762 - accuracy: 0.1111 - val_loss: 4.0013 - val_accuracy: 0.1392\n",
            "Epoch 14/50\n",
            "4/4 [==============================] - 0s 18ms/step - loss: 3.8762 - accuracy: 0.1111 - val_loss: 4.0013 - val_accuracy: 0.1392\n",
            "Epoch 15/50\n",
            "4/4 [==============================] - 0s 16ms/step - loss: 3.8762 - accuracy: 0.1111 - val_loss: 4.0013 - val_accuracy: 0.1392\n",
            "Epoch 16/50\n",
            "4/4 [==============================] - 0s 15ms/step - loss: 3.8762 - accuracy: 0.1111 - val_loss: 4.0013 - val_accuracy: 0.1392\n",
            "Epoch 17/50\n",
            "4/4 [==============================] - 0s 15ms/step - loss: 3.8762 - accuracy: 0.1111 - val_loss: 4.0013 - val_accuracy: 0.1392\n",
            "Epoch 18/50\n",
            "4/4 [==============================] - 0s 21ms/step - loss: 3.8762 - accuracy: 0.1111 - val_loss: 4.0013 - val_accuracy: 0.1392\n",
            "Epoch 19/50\n",
            "4/4 [==============================] - 0s 16ms/step - loss: 3.8762 - accuracy: 0.1111 - val_loss: 4.0013 - val_accuracy: 0.1392\n",
            "Epoch 20/50\n",
            "4/4 [==============================] - 0s 16ms/step - loss: 3.8762 - accuracy: 0.1111 - val_loss: 4.0013 - val_accuracy: 0.1392\n",
            "Epoch 21/50\n",
            "4/4 [==============================] - 0s 18ms/step - loss: 3.8762 - accuracy: 0.1111 - val_loss: 4.0013 - val_accuracy: 0.1392\n",
            "Epoch 22/50\n",
            "4/4 [==============================] - 0s 16ms/step - loss: 3.8762 - accuracy: 0.1111 - val_loss: 4.0013 - val_accuracy: 0.1392\n",
            "Epoch 23/50\n",
            "4/4 [==============================] - 0s 15ms/step - loss: 3.8762 - accuracy: 0.1111 - val_loss: 4.0013 - val_accuracy: 0.1392\n",
            "Epoch 24/50\n",
            "4/4 [==============================] - 0s 19ms/step - loss: 3.8762 - accuracy: 0.1111 - val_loss: 4.0013 - val_accuracy: 0.1392\n",
            "Epoch 25/50\n",
            "4/4 [==============================] - 0s 16ms/step - loss: 3.8762 - accuracy: 0.1111 - val_loss: 4.0013 - val_accuracy: 0.1392\n",
            "Epoch 26/50\n",
            "4/4 [==============================] - 0s 15ms/step - loss: 3.8762 - accuracy: 0.1111 - val_loss: 4.0013 - val_accuracy: 0.1392\n",
            "Epoch 27/50\n",
            "4/4 [==============================] - 0s 25ms/step - loss: 3.8762 - accuracy: 0.1111 - val_loss: 4.0013 - val_accuracy: 0.1392\n",
            "Epoch 28/50\n",
            "4/4 [==============================] - 0s 23ms/step - loss: 3.8762 - accuracy: 0.1111 - val_loss: 4.0013 - val_accuracy: 0.1392\n",
            "Epoch 29/50\n",
            "4/4 [==============================] - 0s 22ms/step - loss: 3.8762 - accuracy: 0.1111 - val_loss: 4.0013 - val_accuracy: 0.1392\n",
            "Epoch 30/50\n",
            "4/4 [==============================] - 0s 23ms/step - loss: 3.8762 - accuracy: 0.1111 - val_loss: 4.0013 - val_accuracy: 0.1392\n",
            "Epoch 31/50\n",
            "4/4 [==============================] - 0s 21ms/step - loss: 3.8762 - accuracy: 0.1111 - val_loss: 4.0013 - val_accuracy: 0.1392\n",
            "Epoch 32/50\n",
            "4/4 [==============================] - 0s 25ms/step - loss: 3.8762 - accuracy: 0.1111 - val_loss: 4.0013 - val_accuracy: 0.1392\n",
            "Epoch 33/50\n",
            "4/4 [==============================] - 0s 25ms/step - loss: 3.8762 - accuracy: 0.1111 - val_loss: 4.0013 - val_accuracy: 0.1392\n",
            "Epoch 34/50\n",
            "4/4 [==============================] - 0s 20ms/step - loss: 3.8762 - accuracy: 0.1111 - val_loss: 4.0013 - val_accuracy: 0.1392\n",
            "Epoch 35/50\n",
            "4/4 [==============================] - 0s 25ms/step - loss: 3.8762 - accuracy: 0.1111 - val_loss: 4.0013 - val_accuracy: 0.1392\n",
            "Epoch 36/50\n",
            "4/4 [==============================] - 0s 21ms/step - loss: 3.8762 - accuracy: 0.1111 - val_loss: 4.0013 - val_accuracy: 0.1392\n",
            "Epoch 37/50\n",
            "4/4 [==============================] - 0s 21ms/step - loss: 3.8762 - accuracy: 0.1111 - val_loss: 4.0013 - val_accuracy: 0.1392\n",
            "Epoch 38/50\n",
            "4/4 [==============================] - 0s 21ms/step - loss: 3.8762 - accuracy: 0.1111 - val_loss: 4.0013 - val_accuracy: 0.1392\n",
            "Epoch 39/50\n",
            "4/4 [==============================] - 0s 15ms/step - loss: 3.8762 - accuracy: 0.1111 - val_loss: 4.0013 - val_accuracy: 0.1392\n",
            "Epoch 40/50\n",
            "4/4 [==============================] - 0s 25ms/step - loss: 3.8762 - accuracy: 0.1111 - val_loss: 4.0013 - val_accuracy: 0.1392\n",
            "Epoch 41/50\n",
            "4/4 [==============================] - 0s 28ms/step - loss: 3.8762 - accuracy: 0.1111 - val_loss: 4.0013 - val_accuracy: 0.1392\n",
            "Epoch 42/50\n",
            "4/4 [==============================] - 0s 49ms/step - loss: 3.8762 - accuracy: 0.1111 - val_loss: 4.0013 - val_accuracy: 0.1392\n",
            "Epoch 43/50\n",
            "4/4 [==============================] - 0s 25ms/step - loss: 3.8762 - accuracy: 0.1111 - val_loss: 4.0013 - val_accuracy: 0.1392\n",
            "Epoch 44/50\n",
            "4/4 [==============================] - 0s 40ms/step - loss: 3.8762 - accuracy: 0.1111 - val_loss: 4.0013 - val_accuracy: 0.1392\n",
            "Epoch 45/50\n",
            "4/4 [==============================] - 0s 22ms/step - loss: 3.8762 - accuracy: 0.1111 - val_loss: 4.0013 - val_accuracy: 0.1392\n",
            "Epoch 46/50\n",
            "4/4 [==============================] - 0s 41ms/step - loss: 3.8762 - accuracy: 0.1111 - val_loss: 4.0013 - val_accuracy: 0.1392\n",
            "Epoch 47/50\n",
            "4/4 [==============================] - 0s 33ms/step - loss: 3.8762 - accuracy: 0.1111 - val_loss: 4.0013 - val_accuracy: 0.1392\n",
            "Epoch 48/50\n",
            "4/4 [==============================] - 0s 49ms/step - loss: 3.8762 - accuracy: 0.1111 - val_loss: 4.0013 - val_accuracy: 0.1392\n",
            "Epoch 49/50\n",
            "4/4 [==============================] - 0s 31ms/step - loss: 3.8762 - accuracy: 0.1111 - val_loss: 4.0013 - val_accuracy: 0.1392\n",
            "Epoch 50/50\n",
            "4/4 [==============================] - 0s 58ms/step - loss: 3.8762 - accuracy: 0.1111 - val_loss: 4.0013 - val_accuracy: 0.1392\n"
          ]
        }
      ]
    }
  ],
  "metadata": {
    "colab": {
      "collapsed_sections": [],
      "provenance": [],
      "toc_visible": true,
      "include_colab_link": true
    },
    "kernelspec": {
      "display_name": "Python 3",
      "name": "python3"
    },
    "language_info": {
      "name": "python"
    }
  },
  "nbformat": 4,
  "nbformat_minor": 0
}